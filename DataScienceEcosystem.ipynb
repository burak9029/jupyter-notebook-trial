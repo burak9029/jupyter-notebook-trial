{
 "cells": [
  {
   "cell_type": "markdown",
   "id": "3ecd963e-5049-4f67-b446-96283b87f599",
   "metadata": {},
   "source": [
    "Alt-Data Science Tools and Ecosystem"
   ]
  },
  {
   "cell_type": "markdown",
   "id": "a36d7305-82a2-4876-a15b-89dda919d626",
   "metadata": {
    "tags": []
   },
   "source": [
    "Some of the commonly used libraries used by Data Scientists include:\n",
    "1. TensorFlow\n",
    "2. NumPy\n",
    "3. Matplotlib"
   ]
  },
  {
   "cell_type": "markdown",
   "id": "490a34a9-a731-464d-9198-136fb688e5fe",
   "metadata": {},
   "source": [
    "Data Science Tools\n",
    "1. NTLK\n",
    "2. Python\n",
    "3. Matplotlib"
   ]
  },
  {
   "cell_type": "code",
   "execution_count": 3,
   "id": "40b8d3de-11d4-4dcd-be65-cda49e619d23",
   "metadata": {
    "tags": []
   },
   "outputs": [
    {
     "data": {
      "text/plain": [
       "1.0"
      ]
     },
     "execution_count": 3,
     "metadata": {},
     "output_type": "execute_result"
    }
   ],
   "source": [
    "3*3\n",
    "3+4\n",
    "8/8"
   ]
  },
  {
   "cell_type": "code",
   "execution_count": 4,
   "id": "4ded7a81-7737-4007-977a-d94ec6696617",
   "metadata": {
    "tags": []
   },
   "outputs": [
    {
     "data": {
      "text/plain": [
       "17"
      ]
     },
     "execution_count": 4,
     "metadata": {},
     "output_type": "execute_result"
    }
   ],
   "source": [
    "(3*4)+5\n",
    "#This a simple arithmetic expression to mutiply then add integers"
   ]
  },
  {
   "cell_type": "code",
   "execution_count": 5,
   "id": "89560a1d-0922-47c7-adc9-734846632fa0",
   "metadata": {
    "tags": []
   },
   "outputs": [
    {
     "data": {
      "text/plain": [
       "3.3333333333333335"
      ]
     },
     "execution_count": 5,
     "metadata": {},
     "output_type": "execute_result"
    }
   ],
   "source": [
    "#This will convert 200 minutes to hours by diving by 60\n",
    "200/60"
   ]
  },
  {
   "cell_type": "markdown",
   "id": "25e0f6c2-6899-4742-b35f-55a6a7406107",
   "metadata": {},
   "source": [
    "List popular languages for Data Science\n",
    "- Python\n",
    "- Java Script\n",
    "- C\n"
   ]
  },
  {
   "cell_type": "markdown",
   "id": "8413ab61-baf8-4e19-bdd6-77e3cd72b3aa",
   "metadata": {
    "tags": []
   },
   "source": [
    "Alt-Author: Burak VAROL"
   ]
  },
  {
   "cell_type": "code",
   "execution_count": null,
   "id": "af21e210-bcd7-4e74-a589-18516011859f",
   "metadata": {},
   "outputs": [],
   "source": []
  }
 ],
 "metadata": {
  "kernelspec": {
   "display_name": "Python 3 (ipykernel)",
   "language": "python",
   "name": "python3"
  },
  "language_info": {
   "codemirror_mode": {
    "name": "ipython",
    "version": 3
   },
   "file_extension": ".py",
   "mimetype": "text/x-python",
   "name": "python",
   "nbconvert_exporter": "python",
   "pygments_lexer": "ipython3",
   "version": "3.11.5"
  }
 },
 "nbformat": 4,
 "nbformat_minor": 5
}
